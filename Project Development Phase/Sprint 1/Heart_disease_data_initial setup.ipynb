{
 "cells": [
  {
   "cell_type": "markdown",
   "metadata": {
    "id": "B83zuhYjO-KT"
   },
   "source": [
    "## <font size=5> <strong>Heart Disease Prediction\n",
    " "
   ]
  },
  {
   "cell_type": "markdown",
   "metadata": {
    "id": "e5zKHNJFO-Ka"
   },
   "source": [
    "## I. Importing essential libraries"
   ]
  },
  {
   "cell_type": "code",
   "execution_count": 1,
   "metadata": {
    "colab": {
     "base_uri": "https://localhost:8080/"
    },
    "executionInfo": {
     "elapsed": 635,
     "status": "ok",
     "timestamp": 1631779978421,
     "user": {
      "displayName": "Divya Chelshia",
      "photoUrl": "https://lh3.googleusercontent.com/a-/AOh14GiSGuzDMgmdJ0ItPB_Nu-COcMs3eOaEsKG2F5TYeQ=s64",
      "userId": "00594732214127313267"
     },
     "user_tz": -330
    },
    "id": "rnZnX1s9O-Kb",
    "outputId": "ca0fd6b2-562e-4225-80cf-624c9f665d42"
   },
   "outputs": [
    {
     "name": "stdout",
     "output_type": "stream",
     "text": [
      "['RANDOM FOREST SAMPLE PARAMETER TUNING.ipynb', '.DS_Store', 'Heart', 'Untitled.ipynb', 'ML_PPT.pptx', 'Heart_disease_prediction.ipynb', 'Heart_Disease_Prediction.csv', '(Base paper)CARDIOVASCULAR_DISEASE_PREDICTION.pdf', 'Keypts.docx', '.jovianrc', 'ML PAPERS', '.ipynb_checkpoints']\n"
     ]
    }
   ],
   "source": [
    "import numpy as np\n",
    "import pandas as pd\n",
    "import matplotlib.pyplot as plt\n",
    "import seaborn as sns\n",
    "\n",
    "%matplotlib inline\n",
    "\n",
    "import os\n",
    "print(os.listdir())\n",
    "\n",
    "import warnings\n",
    "warnings.filterwarnings('ignore')"
   ]
  },
  {
   "cell_type": "markdown",
   "metadata": {
    "id": "F6G3TBvjO-Kc"
   },
   "source": [
    "## II. Importing and understanding our dataset "
   ]
  },
  {
   "cell_type": "code",
   "execution_count": 2,
   "metadata": {
    "id": "CiG3b1DjO-Kd"
   },
   "outputs": [],
   "source": [
    "dataset = pd.read_csv(\"Heart_Disease_Prediction.csv\")"
   ]
  },
  {
   "cell_type": "markdown",
   "metadata": {
    "id": "xiPO8OyFO-Kd"
   },
   "source": [
    "#### Verifying it as a 'dataframe' object in pandas"
   ]
  },
  {
   "cell_type": "code",
   "execution_count": 3,
   "metadata": {
    "colab": {
     "base_uri": "https://localhost:8080/"
    },
    "executionInfo": {
     "elapsed": 159,
     "status": "ok",
     "timestamp": 1631779979628,
     "user": {
      "displayName": "Divya Chelshia",
      "photoUrl": "https://lh3.googleusercontent.com/a-/AOh14GiSGuzDMgmdJ0ItPB_Nu-COcMs3eOaEsKG2F5TYeQ=s64",
      "userId": "00594732214127313267"
     },
     "user_tz": -330
    },
    "id": "eFSag159O-Kd",
    "outputId": "a2819060-c569-4fb1-e42a-b41c59e1d65d"
   },
   "outputs": [
    {
     "data": {
      "text/plain": [
       "pandas.core.frame.DataFrame"
      ]
     },
     "execution_count": 3,
     "metadata": {},
     "output_type": "execute_result"
    }
   ],
   "source": [
    "type(dataset)"
   ]
  },
  {
   "cell_type": "markdown",
   "metadata": {
    "id": "HbEiQzQhO-Ke"
   },
   "source": [
    "#### Shape of dataset"
   ]
  },
  {
   "cell_type": "code",
   "execution_count": 4,
   "metadata": {
    "colab": {
     "base_uri": "https://localhost:8080/"
    },
    "executionInfo": {
     "elapsed": 158,
     "status": "ok",
     "timestamp": 1631779979633,
     "user": {
      "displayName": "Divya Chelshia",
      "photoUrl": "https://lh3.googleusercontent.com/a-/AOh14GiSGuzDMgmdJ0ItPB_Nu-COcMs3eOaEsKG2F5TYeQ=s64",
      "userId": "00594732214127313267"
     },
     "user_tz": -330
    },
    "id": "eTV1cQeVO-Ke",
    "outputId": "21304d07-4bdd-4e2d-9391-5a4d93f26909"
   },
   "outputs": [
    {
     "data": {
      "text/plain": [
       "(270, 14)"
      ]
     },
     "execution_count": 4,
     "metadata": {},
     "output_type": "execute_result"
    }
   ],
   "source": [
    "dataset.shape"
   ]
  },
  {
   "cell_type": "markdown",
   "metadata": {
    "id": "j3ms19viO-Kf"
   },
   "source": [
    "#### Printing out a few columns"
   ]
  },
  {
   "cell_type": "code",
   "execution_count": 5,
   "metadata": {
    "colab": {
     "base_uri": "https://localhost:8080/",
     "height": 204
    },
    "executionInfo": {
     "elapsed": 160,
     "status": "ok",
     "timestamp": 1631779979643,
     "user": {
      "displayName": "Divya Chelshia",
      "photoUrl": "https://lh3.googleusercontent.com/a-/AOh14GiSGuzDMgmdJ0ItPB_Nu-COcMs3eOaEsKG2F5TYeQ=s64",
      "userId": "00594732214127313267"
     },
     "user_tz": -330
    },
    "id": "tzt_T0d0O-Kf",
    "outputId": "d5d688d2-277c-4845-e696-062d5e9cf632"
   },
   "outputs": [
    {
     "data": {
      "text/html": [
       "<div>\n",
       "<style scoped>\n",
       "    .dataframe tbody tr th:only-of-type {\n",
       "        vertical-align: middle;\n",
       "    }\n",
       "\n",
       "    .dataframe tbody tr th {\n",
       "        vertical-align: top;\n",
       "    }\n",
       "\n",
       "    .dataframe thead th {\n",
       "        text-align: right;\n",
       "    }\n",
       "</style>\n",
       "<table border=\"1\" class=\"dataframe\">\n",
       "  <thead>\n",
       "    <tr style=\"text-align: right;\">\n",
       "      <th></th>\n",
       "      <th>Age</th>\n",
       "      <th>Sex</th>\n",
       "      <th>Chest pain type</th>\n",
       "      <th>BP</th>\n",
       "      <th>Cholesterol</th>\n",
       "      <th>FBS over 120</th>\n",
       "      <th>EKG results</th>\n",
       "      <th>Max HR</th>\n",
       "      <th>Exercise angina</th>\n",
       "      <th>ST depression</th>\n",
       "      <th>Slope of ST</th>\n",
       "      <th>Number of vessels fluro</th>\n",
       "      <th>Thallium</th>\n",
       "      <th>Heart Disease</th>\n",
       "    </tr>\n",
       "  </thead>\n",
       "  <tbody>\n",
       "    <tr>\n",
       "      <th>0</th>\n",
       "      <td>70</td>\n",
       "      <td>1</td>\n",
       "      <td>4</td>\n",
       "      <td>130</td>\n",
       "      <td>322</td>\n",
       "      <td>0</td>\n",
       "      <td>2</td>\n",
       "      <td>109</td>\n",
       "      <td>0</td>\n",
       "      <td>2.4</td>\n",
       "      <td>2</td>\n",
       "      <td>3</td>\n",
       "      <td>3</td>\n",
       "      <td>1</td>\n",
       "    </tr>\n",
       "    <tr>\n",
       "      <th>1</th>\n",
       "      <td>67</td>\n",
       "      <td>0</td>\n",
       "      <td>3</td>\n",
       "      <td>115</td>\n",
       "      <td>564</td>\n",
       "      <td>0</td>\n",
       "      <td>2</td>\n",
       "      <td>160</td>\n",
       "      <td>0</td>\n",
       "      <td>1.6</td>\n",
       "      <td>2</td>\n",
       "      <td>0</td>\n",
       "      <td>7</td>\n",
       "      <td>0</td>\n",
       "    </tr>\n",
       "    <tr>\n",
       "      <th>2</th>\n",
       "      <td>57</td>\n",
       "      <td>1</td>\n",
       "      <td>2</td>\n",
       "      <td>124</td>\n",
       "      <td>261</td>\n",
       "      <td>0</td>\n",
       "      <td>0</td>\n",
       "      <td>141</td>\n",
       "      <td>0</td>\n",
       "      <td>0.3</td>\n",
       "      <td>1</td>\n",
       "      <td>0</td>\n",
       "      <td>7</td>\n",
       "      <td>1</td>\n",
       "    </tr>\n",
       "    <tr>\n",
       "      <th>3</th>\n",
       "      <td>64</td>\n",
       "      <td>1</td>\n",
       "      <td>4</td>\n",
       "      <td>128</td>\n",
       "      <td>263</td>\n",
       "      <td>0</td>\n",
       "      <td>0</td>\n",
       "      <td>105</td>\n",
       "      <td>1</td>\n",
       "      <td>0.2</td>\n",
       "      <td>2</td>\n",
       "      <td>1</td>\n",
       "      <td>7</td>\n",
       "      <td>0</td>\n",
       "    </tr>\n",
       "    <tr>\n",
       "      <th>4</th>\n",
       "      <td>74</td>\n",
       "      <td>0</td>\n",
       "      <td>2</td>\n",
       "      <td>120</td>\n",
       "      <td>269</td>\n",
       "      <td>0</td>\n",
       "      <td>2</td>\n",
       "      <td>121</td>\n",
       "      <td>1</td>\n",
       "      <td>0.2</td>\n",
       "      <td>1</td>\n",
       "      <td>1</td>\n",
       "      <td>3</td>\n",
       "      <td>0</td>\n",
       "    </tr>\n",
       "  </tbody>\n",
       "</table>\n",
       "</div>"
      ],
      "text/plain": [
       "   Age  Sex  Chest pain type   BP  Cholesterol  FBS over 120  EKG results  \\\n",
       "0   70    1                4  130          322             0            2   \n",
       "1   67    0                3  115          564             0            2   \n",
       "2   57    1                2  124          261             0            0   \n",
       "3   64    1                4  128          263             0            0   \n",
       "4   74    0                2  120          269             0            2   \n",
       "\n",
       "   Max HR  Exercise angina  ST depression  Slope of ST  \\\n",
       "0     109                0            2.4            2   \n",
       "1     160                0            1.6            2   \n",
       "2     141                0            0.3            1   \n",
       "3     105                1            0.2            2   \n",
       "4     121                1            0.2            1   \n",
       "\n",
       "   Number of vessels fluro  Thallium  Heart Disease  \n",
       "0                        3         3              1  \n",
       "1                        0         7              0  \n",
       "2                        0         7              1  \n",
       "3                        1         7              0  \n",
       "4                        1         3              0  "
      ]
     },
     "execution_count": 5,
     "metadata": {},
     "output_type": "execute_result"
    }
   ],
   "source": [
    "dataset.head(5)"
   ]
  },
  {
   "cell_type": "code",
   "execution_count": 6,
   "metadata": {
    "colab": {
     "base_uri": "https://localhost:8080/",
     "height": 204
    },
    "executionInfo": {
     "elapsed": 158,
     "status": "ok",
     "timestamp": 1631779979646,
     "user": {
      "displayName": "Divya Chelshia",
      "photoUrl": "https://lh3.googleusercontent.com/a-/AOh14GiSGuzDMgmdJ0ItPB_Nu-COcMs3eOaEsKG2F5TYeQ=s64",
      "userId": "00594732214127313267"
     },
     "user_tz": -330
    },
    "id": "pmGpqSUHO-Kf",
    "outputId": "5c0b0cf1-86d5-4436-d53a-83f7dcecf470"
   },
   "outputs": [
    {
     "data": {
      "text/html": [
       "<div>\n",
       "<style scoped>\n",
       "    .dataframe tbody tr th:only-of-type {\n",
       "        vertical-align: middle;\n",
       "    }\n",
       "\n",
       "    .dataframe tbody tr th {\n",
       "        vertical-align: top;\n",
       "    }\n",
       "\n",
       "    .dataframe thead th {\n",
       "        text-align: right;\n",
       "    }\n",
       "</style>\n",
       "<table border=\"1\" class=\"dataframe\">\n",
       "  <thead>\n",
       "    <tr style=\"text-align: right;\">\n",
       "      <th></th>\n",
       "      <th>Age</th>\n",
       "      <th>Sex</th>\n",
       "      <th>Chest pain type</th>\n",
       "      <th>BP</th>\n",
       "      <th>Cholesterol</th>\n",
       "      <th>FBS over 120</th>\n",
       "      <th>EKG results</th>\n",
       "      <th>Max HR</th>\n",
       "      <th>Exercise angina</th>\n",
       "      <th>ST depression</th>\n",
       "      <th>Slope of ST</th>\n",
       "      <th>Number of vessels fluro</th>\n",
       "      <th>Thallium</th>\n",
       "      <th>Heart Disease</th>\n",
       "    </tr>\n",
       "  </thead>\n",
       "  <tbody>\n",
       "    <tr>\n",
       "      <th>22</th>\n",
       "      <td>43</td>\n",
       "      <td>1</td>\n",
       "      <td>4</td>\n",
       "      <td>115</td>\n",
       "      <td>303</td>\n",
       "      <td>0</td>\n",
       "      <td>0</td>\n",
       "      <td>181</td>\n",
       "      <td>0</td>\n",
       "      <td>1.2</td>\n",
       "      <td>2</td>\n",
       "      <td>0</td>\n",
       "      <td>3</td>\n",
       "      <td>0</td>\n",
       "    </tr>\n",
       "    <tr>\n",
       "      <th>92</th>\n",
       "      <td>54</td>\n",
       "      <td>1</td>\n",
       "      <td>4</td>\n",
       "      <td>124</td>\n",
       "      <td>266</td>\n",
       "      <td>0</td>\n",
       "      <td>2</td>\n",
       "      <td>109</td>\n",
       "      <td>1</td>\n",
       "      <td>2.2</td>\n",
       "      <td>2</td>\n",
       "      <td>1</td>\n",
       "      <td>7</td>\n",
       "      <td>1</td>\n",
       "    </tr>\n",
       "    <tr>\n",
       "      <th>137</th>\n",
       "      <td>56</td>\n",
       "      <td>1</td>\n",
       "      <td>4</td>\n",
       "      <td>125</td>\n",
       "      <td>249</td>\n",
       "      <td>1</td>\n",
       "      <td>2</td>\n",
       "      <td>144</td>\n",
       "      <td>1</td>\n",
       "      <td>1.2</td>\n",
       "      <td>2</td>\n",
       "      <td>1</td>\n",
       "      <td>3</td>\n",
       "      <td>1</td>\n",
       "    </tr>\n",
       "    <tr>\n",
       "      <th>65</th>\n",
       "      <td>57</td>\n",
       "      <td>1</td>\n",
       "      <td>4</td>\n",
       "      <td>150</td>\n",
       "      <td>276</td>\n",
       "      <td>0</td>\n",
       "      <td>2</td>\n",
       "      <td>112</td>\n",
       "      <td>1</td>\n",
       "      <td>0.6</td>\n",
       "      <td>2</td>\n",
       "      <td>1</td>\n",
       "      <td>6</td>\n",
       "      <td>1</td>\n",
       "    </tr>\n",
       "    <tr>\n",
       "      <th>37</th>\n",
       "      <td>59</td>\n",
       "      <td>1</td>\n",
       "      <td>1</td>\n",
       "      <td>160</td>\n",
       "      <td>273</td>\n",
       "      <td>0</td>\n",
       "      <td>2</td>\n",
       "      <td>125</td>\n",
       "      <td>0</td>\n",
       "      <td>0.0</td>\n",
       "      <td>1</td>\n",
       "      <td>0</td>\n",
       "      <td>3</td>\n",
       "      <td>1</td>\n",
       "    </tr>\n",
       "  </tbody>\n",
       "</table>\n",
       "</div>"
      ],
      "text/plain": [
       "     Age  Sex  Chest pain type   BP  Cholesterol  FBS over 120  EKG results  \\\n",
       "22    43    1                4  115          303             0            0   \n",
       "92    54    1                4  124          266             0            2   \n",
       "137   56    1                4  125          249             1            2   \n",
       "65    57    1                4  150          276             0            2   \n",
       "37    59    1                1  160          273             0            2   \n",
       "\n",
       "     Max HR  Exercise angina  ST depression  Slope of ST  \\\n",
       "22      181                0            1.2            2   \n",
       "92      109                1            2.2            2   \n",
       "137     144                1            1.2            2   \n",
       "65      112                1            0.6            2   \n",
       "37      125                0            0.0            1   \n",
       "\n",
       "     Number of vessels fluro  Thallium  Heart Disease  \n",
       "22                         0         3              0  \n",
       "92                         1         7              1  \n",
       "137                        1         3              1  \n",
       "65                         1         6              1  \n",
       "37                         0         3              1  "
      ]
     },
     "execution_count": 6,
     "metadata": {},
     "output_type": "execute_result"
    }
   ],
   "source": [
    "dataset.sample(5)"
   ]
  },
  {
   "cell_type": "markdown",
   "metadata": {
    "id": "CZ72JHFQO-Kg"
   },
   "source": [
    "#### Description"
   ]
  },
  {
   "cell_type": "code",
   "execution_count": 7,
   "metadata": {
    "colab": {
     "base_uri": "https://localhost:8080/",
     "height": 297
    },
    "executionInfo": {
     "elapsed": 158,
     "status": "ok",
     "timestamp": 1631779979650,
     "user": {
      "displayName": "Divya Chelshia",
      "photoUrl": "https://lh3.googleusercontent.com/a-/AOh14GiSGuzDMgmdJ0ItPB_Nu-COcMs3eOaEsKG2F5TYeQ=s64",
      "userId": "00594732214127313267"
     },
     "user_tz": -330
    },
    "id": "EbGUtTkNO-Kg",
    "outputId": "ccbb035f-79c2-488d-e177-94034ff1e5ba"
   },
   "outputs": [
    {
     "data": {
      "text/html": [
       "<div>\n",
       "<style scoped>\n",
       "    .dataframe tbody tr th:only-of-type {\n",
       "        vertical-align: middle;\n",
       "    }\n",
       "\n",
       "    .dataframe tbody tr th {\n",
       "        vertical-align: top;\n",
       "    }\n",
       "\n",
       "    .dataframe thead th {\n",
       "        text-align: right;\n",
       "    }\n",
       "</style>\n",
       "<table border=\"1\" class=\"dataframe\">\n",
       "  <thead>\n",
       "    <tr style=\"text-align: right;\">\n",
       "      <th></th>\n",
       "      <th>Age</th>\n",
       "      <th>Sex</th>\n",
       "      <th>Chest pain type</th>\n",
       "      <th>BP</th>\n",
       "      <th>Cholesterol</th>\n",
       "      <th>FBS over 120</th>\n",
       "      <th>EKG results</th>\n",
       "      <th>Max HR</th>\n",
       "      <th>Exercise angina</th>\n",
       "      <th>ST depression</th>\n",
       "      <th>Slope of ST</th>\n",
       "      <th>Number of vessels fluro</th>\n",
       "      <th>Thallium</th>\n",
       "      <th>Heart Disease</th>\n",
       "    </tr>\n",
       "  </thead>\n",
       "  <tbody>\n",
       "    <tr>\n",
       "      <th>count</th>\n",
       "      <td>270.000000</td>\n",
       "      <td>270.000000</td>\n",
       "      <td>270.000000</td>\n",
       "      <td>270.000000</td>\n",
       "      <td>270.000000</td>\n",
       "      <td>270.000000</td>\n",
       "      <td>270.000000</td>\n",
       "      <td>270.000000</td>\n",
       "      <td>270.000000</td>\n",
       "      <td>270.00000</td>\n",
       "      <td>270.000000</td>\n",
       "      <td>270.000000</td>\n",
       "      <td>270.000000</td>\n",
       "      <td>270.000000</td>\n",
       "    </tr>\n",
       "    <tr>\n",
       "      <th>mean</th>\n",
       "      <td>54.433333</td>\n",
       "      <td>0.677778</td>\n",
       "      <td>3.174074</td>\n",
       "      <td>131.344444</td>\n",
       "      <td>249.659259</td>\n",
       "      <td>0.148148</td>\n",
       "      <td>1.022222</td>\n",
       "      <td>149.677778</td>\n",
       "      <td>0.329630</td>\n",
       "      <td>1.05000</td>\n",
       "      <td>1.585185</td>\n",
       "      <td>0.670370</td>\n",
       "      <td>4.696296</td>\n",
       "      <td>0.444444</td>\n",
       "    </tr>\n",
       "    <tr>\n",
       "      <th>std</th>\n",
       "      <td>9.109067</td>\n",
       "      <td>0.468195</td>\n",
       "      <td>0.950090</td>\n",
       "      <td>17.861608</td>\n",
       "      <td>51.686237</td>\n",
       "      <td>0.355906</td>\n",
       "      <td>0.997891</td>\n",
       "      <td>23.165717</td>\n",
       "      <td>0.470952</td>\n",
       "      <td>1.14521</td>\n",
       "      <td>0.614390</td>\n",
       "      <td>0.943896</td>\n",
       "      <td>1.940659</td>\n",
       "      <td>0.497827</td>\n",
       "    </tr>\n",
       "    <tr>\n",
       "      <th>min</th>\n",
       "      <td>29.000000</td>\n",
       "      <td>0.000000</td>\n",
       "      <td>1.000000</td>\n",
       "      <td>94.000000</td>\n",
       "      <td>126.000000</td>\n",
       "      <td>0.000000</td>\n",
       "      <td>0.000000</td>\n",
       "      <td>71.000000</td>\n",
       "      <td>0.000000</td>\n",
       "      <td>0.00000</td>\n",
       "      <td>1.000000</td>\n",
       "      <td>0.000000</td>\n",
       "      <td>3.000000</td>\n",
       "      <td>0.000000</td>\n",
       "    </tr>\n",
       "    <tr>\n",
       "      <th>25%</th>\n",
       "      <td>48.000000</td>\n",
       "      <td>0.000000</td>\n",
       "      <td>3.000000</td>\n",
       "      <td>120.000000</td>\n",
       "      <td>213.000000</td>\n",
       "      <td>0.000000</td>\n",
       "      <td>0.000000</td>\n",
       "      <td>133.000000</td>\n",
       "      <td>0.000000</td>\n",
       "      <td>0.00000</td>\n",
       "      <td>1.000000</td>\n",
       "      <td>0.000000</td>\n",
       "      <td>3.000000</td>\n",
       "      <td>0.000000</td>\n",
       "    </tr>\n",
       "    <tr>\n",
       "      <th>50%</th>\n",
       "      <td>55.000000</td>\n",
       "      <td>1.000000</td>\n",
       "      <td>3.000000</td>\n",
       "      <td>130.000000</td>\n",
       "      <td>245.000000</td>\n",
       "      <td>0.000000</td>\n",
       "      <td>2.000000</td>\n",
       "      <td>153.500000</td>\n",
       "      <td>0.000000</td>\n",
       "      <td>0.80000</td>\n",
       "      <td>2.000000</td>\n",
       "      <td>0.000000</td>\n",
       "      <td>3.000000</td>\n",
       "      <td>0.000000</td>\n",
       "    </tr>\n",
       "    <tr>\n",
       "      <th>75%</th>\n",
       "      <td>61.000000</td>\n",
       "      <td>1.000000</td>\n",
       "      <td>4.000000</td>\n",
       "      <td>140.000000</td>\n",
       "      <td>280.000000</td>\n",
       "      <td>0.000000</td>\n",
       "      <td>2.000000</td>\n",
       "      <td>166.000000</td>\n",
       "      <td>1.000000</td>\n",
       "      <td>1.60000</td>\n",
       "      <td>2.000000</td>\n",
       "      <td>1.000000</td>\n",
       "      <td>7.000000</td>\n",
       "      <td>1.000000</td>\n",
       "    </tr>\n",
       "    <tr>\n",
       "      <th>max</th>\n",
       "      <td>77.000000</td>\n",
       "      <td>1.000000</td>\n",
       "      <td>4.000000</td>\n",
       "      <td>200.000000</td>\n",
       "      <td>564.000000</td>\n",
       "      <td>1.000000</td>\n",
       "      <td>2.000000</td>\n",
       "      <td>202.000000</td>\n",
       "      <td>1.000000</td>\n",
       "      <td>6.20000</td>\n",
       "      <td>3.000000</td>\n",
       "      <td>3.000000</td>\n",
       "      <td>7.000000</td>\n",
       "      <td>1.000000</td>\n",
       "    </tr>\n",
       "  </tbody>\n",
       "</table>\n",
       "</div>"
      ],
      "text/plain": [
       "              Age         Sex  Chest pain type          BP  Cholesterol  \\\n",
       "count  270.000000  270.000000       270.000000  270.000000   270.000000   \n",
       "mean    54.433333    0.677778         3.174074  131.344444   249.659259   \n",
       "std      9.109067    0.468195         0.950090   17.861608    51.686237   \n",
       "min     29.000000    0.000000         1.000000   94.000000   126.000000   \n",
       "25%     48.000000    0.000000         3.000000  120.000000   213.000000   \n",
       "50%     55.000000    1.000000         3.000000  130.000000   245.000000   \n",
       "75%     61.000000    1.000000         4.000000  140.000000   280.000000   \n",
       "max     77.000000    1.000000         4.000000  200.000000   564.000000   \n",
       "\n",
       "       FBS over 120  EKG results      Max HR  Exercise angina  ST depression  \\\n",
       "count    270.000000   270.000000  270.000000       270.000000      270.00000   \n",
       "mean       0.148148     1.022222  149.677778         0.329630        1.05000   \n",
       "std        0.355906     0.997891   23.165717         0.470952        1.14521   \n",
       "min        0.000000     0.000000   71.000000         0.000000        0.00000   \n",
       "25%        0.000000     0.000000  133.000000         0.000000        0.00000   \n",
       "50%        0.000000     2.000000  153.500000         0.000000        0.80000   \n",
       "75%        0.000000     2.000000  166.000000         1.000000        1.60000   \n",
       "max        1.000000     2.000000  202.000000         1.000000        6.20000   \n",
       "\n",
       "       Slope of ST  Number of vessels fluro    Thallium  Heart Disease  \n",
       "count   270.000000               270.000000  270.000000     270.000000  \n",
       "mean      1.585185                 0.670370    4.696296       0.444444  \n",
       "std       0.614390                 0.943896    1.940659       0.497827  \n",
       "min       1.000000                 0.000000    3.000000       0.000000  \n",
       "25%       1.000000                 0.000000    3.000000       0.000000  \n",
       "50%       2.000000                 0.000000    3.000000       0.000000  \n",
       "75%       2.000000                 1.000000    7.000000       1.000000  \n",
       "max       3.000000                 3.000000    7.000000       1.000000  "
      ]
     },
     "execution_count": 7,
     "metadata": {},
     "output_type": "execute_result"
    }
   ],
   "source": [
    "dataset.describe()"
   ]
  },
  {
   "cell_type": "code",
   "execution_count": 8,
   "metadata": {
    "colab": {
     "base_uri": "https://localhost:8080/"
    },
    "executionInfo": {
     "elapsed": 161,
     "status": "ok",
     "timestamp": 1631779979657,
     "user": {
      "displayName": "Divya Chelshia",
      "photoUrl": "https://lh3.googleusercontent.com/a-/AOh14GiSGuzDMgmdJ0ItPB_Nu-COcMs3eOaEsKG2F5TYeQ=s64",
      "userId": "00594732214127313267"
     },
     "user_tz": -330
    },
    "id": "vjMyCE4WO-Kg",
    "outputId": "356ebc6a-8bea-45da-8975-f3b7d370b547"
   },
   "outputs": [
    {
     "name": "stdout",
     "output_type": "stream",
     "text": [
      "<class 'pandas.core.frame.DataFrame'>\n",
      "RangeIndex: 270 entries, 0 to 269\n",
      "Data columns (total 14 columns):\n",
      " #   Column                   Non-Null Count  Dtype  \n",
      "---  ------                   --------------  -----  \n",
      " 0   Age                      270 non-null    int64  \n",
      " 1   Sex                      270 non-null    int64  \n",
      " 2   Chest pain type          270 non-null    int64  \n",
      " 3   BP                       270 non-null    int64  \n",
      " 4   Cholesterol              270 non-null    int64  \n",
      " 5   FBS over 120             270 non-null    int64  \n",
      " 6   EKG results              270 non-null    int64  \n",
      " 7   Max HR                   270 non-null    int64  \n",
      " 8   Exercise angina          270 non-null    int64  \n",
      " 9   ST depression            270 non-null    float64\n",
      " 10  Slope of ST              270 non-null    int64  \n",
      " 11  Number of vessels fluro  270 non-null    int64  \n",
      " 12  Thallium                 270 non-null    int64  \n",
      " 13  Heart Disease            270 non-null    int64  \n",
      "dtypes: float64(1), int64(13)\n",
      "memory usage: 29.7 KB\n"
     ]
    }
   ],
   "source": [
    "dataset.info()"
   ]
  },
  {
   "cell_type": "code",
   "execution_count": 9,
   "metadata": {
    "id": "Cmhl9n3QO-Kh"
   },
   "outputs": [],
   "source": [
    "###Luckily, we have no missing values"
   ]
  },
  {
   "cell_type": "markdown",
   "metadata": {
    "id": "d6KZvux1O-Kh"
   },
   "source": [
    "#### Let's understand our columns better:"
   ]
  },
  {
   "cell_type": "code",
   "execution_count": 10,
   "metadata": {
    "colab": {
     "base_uri": "https://localhost:8080/"
    },
    "executionInfo": {
     "elapsed": 154,
     "status": "ok",
     "timestamp": 1631779979663,
     "user": {
      "displayName": "Divya Chelshia",
      "photoUrl": "https://lh3.googleusercontent.com/a-/AOh14GiSGuzDMgmdJ0ItPB_Nu-COcMs3eOaEsKG2F5TYeQ=s64",
      "userId": "00594732214127313267"
     },
     "user_tz": -330
    },
    "id": "n2B-UUmLO-Kh",
    "outputId": "058a93ee-5a06-49f0-c76d-18c2e3c126eb"
   },
   "outputs": [
    {
     "name": "stdout",
     "output_type": "stream",
     "text": [
      "Age:\t\t\tage\n",
      "Sex:\t\t\t1: male, 0: female\n",
      "Chest pain type:\t\t\tchest pain type, 1: typical angina, 2: atypical angina, 3: non-anginal pain, 4: asymptomatic\n",
      "BP:\t\t\tresting blood pressure\n",
      "Cholesterol:\t\t\t serum cholestoral in mg/dl\n",
      "FBS over 120:\t\t\tfasting blood sugar > 120 mg/dl\n",
      "EKG results:\t\t\tresting electrocardiographic results (values 0,1,2)\n",
      "Max HR:\t\t\t maximum heart rate achieved\n",
      "Exercise angina:\t\t\texercise induced angina\n",
      "ST depression:\t\t\toldpeak = ST depression induced by exercise relative to rest\n",
      "Slope of ST:\t\t\tthe slope of the peak exercise ST segment\n",
      "Number of vessels fluro:\t\t\tnumber of major vessels (0-3) colored by flourosopy\n",
      "Thallium:\t\t\tthal: 3 = normal; 6 = fixed defect; 7 = reversable defect\n"
     ]
    }
   ],
   "source": [
    "info = [\"age\",\"1: male, 0: female\",\"chest pain type, 1: typical angina, 2: atypical angina, 3: non-anginal pain, 4: asymptomatic\",\"resting blood pressure\",\" serum cholestoral in mg/dl\",\"fasting blood sugar > 120 mg/dl\",\"resting electrocardiographic results (values 0,1,2)\",\" maximum heart rate achieved\",\"exercise induced angina\",\"oldpeak = ST depression induced by exercise relative to rest\",\"the slope of the peak exercise ST segment\",\"number of major vessels (0-3) colored by flourosopy\",\"thal: 3 = normal; 6 = fixed defect; 7 = reversable defect\"]\n",
    "\n",
    "\n",
    "\n",
    "for i in range(len(info)):\n",
    "    print(dataset.columns[i]+\":\\t\\t\\t\"+info[i])"
   ]
  },
  {
   "cell_type": "markdown",
   "metadata": {
    "id": "B7Abi3YYO-Ki"
   },
   "source": [
    "#### Analysing the 'target' variable"
   ]
  },
  {
   "cell_type": "code",
   "execution_count": 11,
   "metadata": {
    "colab": {
     "base_uri": "https://localhost:8080/"
    },
    "executionInfo": {
     "elapsed": 146,
     "status": "ok",
     "timestamp": 1631779979666,
     "user": {
      "displayName": "Divya Chelshia",
      "photoUrl": "https://lh3.googleusercontent.com/a-/AOh14GiSGuzDMgmdJ0ItPB_Nu-COcMs3eOaEsKG2F5TYeQ=s64",
      "userId": "00594732214127313267"
     },
     "user_tz": -330
    },
    "id": "j7aWwcZsO-Ki",
    "outputId": "5ec09acb-d9ef-4645-a216-83b79b7b9fb7"
   },
   "outputs": [
    {
     "data": {
      "text/plain": [
       "count    270.000000\n",
       "mean       0.444444\n",
       "std        0.497827\n",
       "min        0.000000\n",
       "25%        0.000000\n",
       "50%        0.000000\n",
       "75%        1.000000\n",
       "max        1.000000\n",
       "Name: Heart Disease, dtype: float64"
      ]
     },
     "execution_count": 11,
     "metadata": {},
     "output_type": "execute_result"
    }
   ],
   "source": [
    "dataset[\"Heart Disease\"].describe()"
   ]
  },
  {
   "cell_type": "code",
   "execution_count": 12,
   "metadata": {
    "colab": {
     "base_uri": "https://localhost:8080/"
    },
    "executionInfo": {
     "elapsed": 139,
     "status": "ok",
     "timestamp": 1631779979668,
     "user": {
      "displayName": "Divya Chelshia",
      "photoUrl": "https://lh3.googleusercontent.com/a-/AOh14GiSGuzDMgmdJ0ItPB_Nu-COcMs3eOaEsKG2F5TYeQ=s64",
      "userId": "00594732214127313267"
     },
     "user_tz": -330
    },
    "id": "PelwwavtO-Ki",
    "outputId": "e68cf7d3-773d-4130-c187-dac4cfba124c"
   },
   "outputs": [
    {
     "data": {
      "text/plain": [
       "array([1, 0])"
      ]
     },
     "execution_count": 12,
     "metadata": {},
     "output_type": "execute_result"
    }
   ],
   "source": [
    "dataset[\"Heart Disease\"].unique()"
   ]
  },
  {
   "cell_type": "markdown",
   "metadata": {
    "id": "2_XemOjuO-Kj"
   },
   "source": [
    "#### Clearly, this is a classification problem, with the target variable having values '0' and '1'"
   ]
  },
  {
   "cell_type": "markdown",
   "metadata": {
    "id": "R8-MpEQVO-Kj"
   },
   "source": [
    "### Checking correlation between columns"
   ]
  },
  {
   "cell_type": "code",
   "execution_count": 13,
   "metadata": {
    "colab": {
     "base_uri": "https://localhost:8080/"
    },
    "executionInfo": {
     "elapsed": 132,
     "status": "ok",
     "timestamp": 1631779979670,
     "user": {
      "displayName": "Divya Chelshia",
      "photoUrl": "https://lh3.googleusercontent.com/a-/AOh14GiSGuzDMgmdJ0ItPB_Nu-COcMs3eOaEsKG2F5TYeQ=s64",
      "userId": "00594732214127313267"
     },
     "user_tz": -330
    },
    "id": "DTi6nfTQO-Kj",
    "outputId": "d288e76b-c84b-4306-cfc5-5b51d0c5c707"
   },
   "outputs": [
    {
     "name": "stdout",
     "output_type": "stream",
     "text": [
      "Heart Disease              1.000000\n",
      "Thallium                   0.525020\n",
      "Number of vessels fluro    0.455336\n",
      "Exercise angina            0.419303\n",
      "Max HR                     0.418514\n",
      "ST depression              0.417967\n",
      "Chest pain type            0.417436\n",
      "Slope of ST                0.337616\n",
      "Sex                        0.297721\n",
      "Age                        0.212322\n",
      "EKG results                0.182091\n",
      "BP                         0.155383\n",
      "Cholesterol                0.118021\n",
      "FBS over 120               0.016319\n",
      "Name: Heart Disease, dtype: float64\n"
     ]
    }
   ],
   "source": [
    "print(dataset.corr()[\"Heart Disease\"].abs().sort_values(ascending=False))"
   ]
  },
  {
   "cell_type": "markdown",
   "metadata": {
    "id": "hhj39WWHO-Kk"
   },
   "source": [
    "## Exploratory Data Analysis (EDA)"
   ]
  },
  {
   "cell_type": "markdown",
   "metadata": {
    "id": "6UMjdgJgO-Kk"
   },
   "source": [
    "### First, analysing the target variable:"
   ]
  },
  {
   "cell_type": "code",
   "execution_count": 14,
   "metadata": {
    "colab": {
     "base_uri": "https://localhost:8080/",
     "height": 330
    },
    "executionInfo": {
     "elapsed": 130,
     "status": "ok",
     "timestamp": 1631779979678,
     "user": {
      "displayName": "Divya Chelshia",
      "photoUrl": "https://lh3.googleusercontent.com/a-/AOh14GiSGuzDMgmdJ0ItPB_Nu-COcMs3eOaEsKG2F5TYeQ=s64",
      "userId": "00594732214127313267"
     },
     "user_tz": -330
    },
    "id": "Tf7WMQIwO-Kk",
    "outputId": "fbcaf46c-389c-4b20-d175-78b1e26f6d82"
   },
   "outputs": [
    {
     "name": "stdout",
     "output_type": "stream",
     "text": [
      "0    150\n",
      "1    120\n",
      "Name: Heart Disease, dtype: int64\n"
     ]
    },
    {
     "data": {
      "image/png": "[encoded data removed]",
      "text/plain": [
       "<Figure size 432x288 with 1 Axes>"
      ]
     },
     "metadata": {
      "needs_background": "light"
     },
     "output_type": "display_data"
    }
   ],
   "source": [
    "y = dataset[\"Heart Disease\"]\n",
    "\n",
    "sns.countplot(y)\n",
    "\n",
    "\n",
    "target_temp = dataset[\"Heart Disease\"].value_counts()\n",
    "\n",
    "print(target_temp)"
   ]
  },
  {
   "cell_type": "code",
   "execution_count": 15,
   "metadata": {
    "colab": {
     "base_uri": "https://localhost:8080/"
    },
    "executionInfo": {
     "elapsed": 121,
     "status": "ok",
     "timestamp": 1631779979679,
     "user": {
      "displayName": "Divya Chelshia",
      "photoUrl": "https://lh3.googleusercontent.com/a-/AOh14GiSGuzDMgmdJ0ItPB_Nu-COcMs3eOaEsKG2F5TYeQ=s64",
      "userId": "00594732214127313267"
     },
     "user_tz": -330
    },
    "id": "TH2UBtDcO-Kl",
    "outputId": "c1baf141-3542-4185-a347-2f3c53af8583"
   },
   "outputs": [
    {
     "name": "stdout",
     "output_type": "stream",
     "text": [
      "Percentage of patience without heart problems: 49.5\n",
      "Percentage of patience with heart problems: 39.6\n"
     ]
    }
   ],
   "source": [
    "print(\"Percentage of patience without heart problems: \"+str(round(target_temp[0]*100/303,2)))\n",
    "print(\"Percentage of patience with heart problems: \"+str(round(target_temp[1]*100/303,2)))"
   ]
  },
  {
   "cell_type": "markdown",
   "metadata": {
    "id": "jnhD0HbSO-Kl"
   },
   "source": [
    "### We'll analyse 'Sex', 'Chest Pain Type', 'FBS', 'EKG results', 'Exercise angina', 'Slope of ST', 'Number of vessels fluro' and 'Thallium' features"
   ]
  },
  {
   "cell_type": "markdown",
   "metadata": {
    "id": "9qTWQF9rO-Kl"
   },
   "source": [
    "### Analysing the 'Sex' feature"
   ]
  },
  {
   "cell_type": "code",
   "execution_count": 16,
   "metadata": {
    "colab": {
     "base_uri": "https://localhost:8080/"
    },
    "executionInfo": {
     "elapsed": 113,
     "status": "ok",
     "timestamp": 1631779979680,
     "user": {
      "displayName": "Divya Chelshia",
      "photoUrl": "https://lh3.googleusercontent.com/a-/AOh14GiSGuzDMgmdJ0ItPB_Nu-COcMs3eOaEsKG2F5TYeQ=s64",
      "userId": "00594732214127313267"
     },
     "user_tz": -330
    },
    "id": "EXcRObaNO-Kl",
    "outputId": "b1c04879-22e0-49b4-83dd-cbde49f05a1b"
   },
   "outputs": [
    {
     "data": {
      "text/plain": [
       "array([1, 0])"
      ]
     },
     "execution_count": 16,
     "metadata": {},
     "output_type": "execute_result"
    }
   ],
   "source": [
    "dataset[\"Sex\"].unique()"
   ]
  },
  {
   "cell_type": "markdown",
   "metadata": {
    "id": "sfnnYC1aO-Km"
   },
   "source": [
    "##### We notice, that as expected, the 'sex' feature has 2 unique features"
   ]
  },
  {
   "cell_type": "code",
   "execution_count": 17,
   "metadata": {
    "colab": {
     "base_uri": "https://localhost:8080/",
     "height": 296
    },
    "executionInfo": {
     "elapsed": 880,
     "status": "ok",
     "timestamp": 1631779980456,
     "user": {
      "displayName": "Divya Chelshia",
      "photoUrl": "https://lh3.googleusercontent.com/a-/AOh14GiSGuzDMgmdJ0ItPB_Nu-COcMs3eOaEsKG2F5TYeQ=s64",
      "userId": "00594732214127313267"
     },
     "user_tz": -330
    },
    "id": "42c8Ef9QO-Km",
    "outputId": "73e2bc52-59ea-4303-b9a9-c623fe66453e"
   },
   "outputs": [
    {
     "data": {
      "text/plain": [
       "<AxesSubplot:xlabel='Sex', ylabel='Heart Disease'>"
      ]
     },
     "execution_count": 17,
     "metadata": {},
     "output_type": "execute_result"
    },
    {
     "data": {
      "image/png": "[encoded data removed]",
      "text/plain": [
       "<Figure size 432x288 with 1 Axes>"
      ]
     },
     "metadata": {
      "needs_background": "light"
     },
     "output_type": "display_data"
    }
   ],
   "source": [
    "sns.barplot(dataset[\"Sex\"],y)"
   ]
  },
  {
   "cell_type": "markdown",
   "metadata": {
    "id": "UTrWE0DTO-Km"
   },
   "source": [
    "### Analysing the 'Chest Pain Type' feature"
   ]
  },
  {
   "cell_type": "code",
   "execution_count": 18,
   "metadata": {
    "colab": {
     "base_uri": "https://localhost:8080/"
    },
    "executionInfo": {
     "elapsed": 83,
     "status": "ok",
     "timestamp": 1631779980458,
     "user": {
      "displayName": "Divya Chelshia",
      "photoUrl": "https://lh3.googleusercontent.com/a-/AOh14GiSGuzDMgmdJ0ItPB_Nu-COcMs3eOaEsKG2F5TYeQ=s64",
      "userId": "00594732214127313267"
     },
     "user_tz": -330
    },
    "id": "ZfwzLqMXO-Kn",
    "outputId": "db5065eb-413c-40c3-ee4b-9cbebbc3e957"
   },
   "outputs": [
    {
     "data": {
      "text/plain": [
       "array([4, 3, 2, 1])"
      ]
     },
     "execution_count": 18,
     "metadata": {},
     "output_type": "execute_result"
    }
   ],
   "source": [
    "dataset[\"Chest pain type\"].unique()"
   ]
  },
  {
   "cell_type": "code",
   "execution_count": 19,
   "metadata": {
    "colab": {
     "base_uri": "https://localhost:8080/",
     "height": 296
    },
    "executionInfo": {
     "elapsed": 71,
     "status": "ok",
     "timestamp": 1631779980459,
     "user": {
      "displayName": "Divya Chelshia",
      "photoUrl": "https://lh3.googleusercontent.com/a-/AOh14GiSGuzDMgmdJ0ItPB_Nu-COcMs3eOaEsKG2F5TYeQ=s64",
      "userId": "00594732214127313267"
     },
     "user_tz": -330
    },
    "id": "YwJG2-GcO-Kn",
    "outputId": "19ffeb82-182d-4759-cdfa-73aac1bd20f6"
   },
   "outputs": [
    {
     "data": {
      "text/plain": [
       "<AxesSubplot:xlabel='Chest pain type', ylabel='Heart Disease'>"
      ]
     },
     "execution_count": 19,
     "metadata": {},
     "output_type": "execute_result"
    },
    {
     "data": {
      "image/png": "[encoded data removed]",
      "text/plain": [
       "<Figure size 432x288 with 1 Axes>"
      ]
     },
     "metadata": {
      "needs_background": "light"
     },
     "output_type": "display_data"
    }
   ],
   "source": [
    "sns.barplot(dataset[\"Chest pain type\"],y)"
   ]
  },
  {
   "cell_type": "markdown",
   "metadata": {
    "id": "oKqh7fN9O-Ko"
   },
   "source": [
    "### Analysing the FBS feature"
   ]
  },
  {
   "cell_type": "code",
   "execution_count": 20,
   "metadata": {
    "colab": {
     "base_uri": "https://localhost:8080/"
    },
    "executionInfo": {
     "elapsed": 61,
     "status": "ok",
     "timestamp": 1631779980461,
     "user": {
      "displayName": "Divya Chelshia",
      "photoUrl": "https://lh3.googleusercontent.com/a-/AOh14GiSGuzDMgmdJ0ItPB_Nu-COcMs3eOaEsKG2F5TYeQ=s64",
      "userId": "00594732214127313267"
     },
     "user_tz": -330
    },
    "id": "wIhoBgoXO-Ko",
    "outputId": "a2489e2e-f713-4e42-be59-ae18cd0a1a5a"
   },
   "outputs": [
    {
     "data": {
      "text/plain": [
       "count    270.000000\n",
       "mean       0.148148\n",
       "std        0.355906\n",
       "min        0.000000\n",
       "25%        0.000000\n",
       "50%        0.000000\n",
       "75%        0.000000\n",
       "max        1.000000\n",
       "Name: FBS over 120, dtype: float64"
      ]
     },
     "execution_count": 20,
     "metadata": {},
     "output_type": "execute_result"
    }
   ],
   "source": [
    "dataset[\"FBS over 120\"].describe()"
   ]
  },
  {
   "cell_type": "code",
   "execution_count": 21,
   "metadata": {
    "colab": {
     "base_uri": "https://localhost:8080/"
    },
    "executionInfo": {
     "elapsed": 51,
     "status": "ok",
     "timestamp": 1631779980463,
     "user": {
      "displayName": "Divya Chelshia",
      "photoUrl": "https://lh3.googleusercontent.com/a-/AOh14GiSGuzDMgmdJ0ItPB_Nu-COcMs3eOaEsKG2F5TYeQ=s64",
      "userId": "00594732214127313267"
     },
     "user_tz": -330
    },
    "id": "8SFij71qO-Ko",
    "outputId": "5d492981-a266-40f9-8776-9066eb17235a"
   },
   "outputs": [
    {
     "data": {
      "text/plain": [
       "array([0, 1])"
      ]
     },
     "execution_count": 21,
     "metadata": {},
     "output_type": "execute_result"
    }
   ],
   "source": [
    "dataset[\"FBS over 120\"].unique()"
   ]
  },
  {
   "cell_type": "code",
   "execution_count": 22,
   "metadata": {
    "colab": {
     "base_uri": "https://localhost:8080/",
     "height": 300
    },
    "executionInfo": {
     "elapsed": 40,
     "status": "ok",
     "timestamp": 1631779980464,
     "user": {
      "displayName": "Divya Chelshia",
      "photoUrl": "https://lh3.googleusercontent.com/a-/AOh14GiSGuzDMgmdJ0ItPB_Nu-COcMs3eOaEsKG2F5TYeQ=s64",
      "userId": "00594732214127313267"
     },
     "user_tz": -330
    },
    "id": "wgl59pCKO-Ko",
    "outputId": "0dd2657c-4394-4f31-841a-a5c4f8f8b8a7"
   },
   "outputs": [
    {
     "data": {
      "text/plain": [
       "<AxesSubplot:xlabel='FBS over 120', ylabel='Heart Disease'>"
      ]
     },
     "execution_count": 22,
     "metadata": {},
     "output_type": "execute_result"
    },
    {
     "data": {
      "image/png": "[encoded data removed]",
      "text/plain": [
       "<Figure size 432x288 with 1 Axes>"
      ]
     },
     "metadata": {
      "needs_background": "light"
     },
     "output_type": "display_data"
    }
   ],
   "source": [
    "sns.barplot(dataset[\"FBS over 120\"],y)"
   ]
  },
  {
   "cell_type": "markdown",
   "metadata": {
    "id": "B6mHt1_8O-Kp"
   },
   "source": [
    "### Analysing the restecg feature"
   ]
  },
  {
   "cell_type": "code",
   "execution_count": 23,
   "metadata": {
    "colab": {
     "base_uri": "https://localhost:8080/"
    },
    "executionInfo": {
     "elapsed": 33,
     "status": "ok",
     "timestamp": 1631779980465,
     "user": {
      "displayName": "Divya Chelshia",
      "photoUrl": "https://lh3.googleusercontent.com/a-/AOh14GiSGuzDMgmdJ0ItPB_Nu-COcMs3eOaEsKG2F5TYeQ=s64",
      "userId": "00594732214127313267"
     },
     "user_tz": -330
    },
    "id": "BLVvPyhTO-Kp",
    "outputId": "1a7107ac-ed99-449f-9517-2690e0852084"
   },
   "outputs": [
    {
     "data": {
      "text/plain": [
       "array([2, 0, 1])"
      ]
     },
     "execution_count": 23,
     "metadata": {},
     "output_type": "execute_result"
    }
   ],
   "source": [
    "dataset[\"EKG results\"].unique()"
   ]
  },
  {
   "cell_type": "code",
   "execution_count": 24,
   "metadata": {
    "colab": {
     "base_uri": "https://localhost:8080/",
     "height": 296
    },
    "executionInfo": {
     "elapsed": 720,
     "status": "ok",
     "timestamp": 1631779981160,
     "user": {
      "displayName": "Divya Chelshia",
      "photoUrl": "https://lh3.googleusercontent.com/a-/AOh14GiSGuzDMgmdJ0ItPB_Nu-COcMs3eOaEsKG2F5TYeQ=s64",
      "userId": "00594732214127313267"
     },
     "user_tz": -330
    },
    "id": "FpJ_qJAyO-Kp",
    "outputId": "57381ad7-4e64-4945-ba1c-a14900d878b3"
   },
   "outputs": [
    {
     "data": {
      "text/plain": [
       "<AxesSubplot:xlabel='EKG results', ylabel='Heart Disease'>"
      ]
     },
     "execution_count": 24,
     "metadata": {},
     "output_type": "execute_result"
    },
    {
     "data": {
      "image/png": "[encoded data removed]",
      "text/plain": [
       "<Figure size 432x288 with 1 Axes>"
      ]
     },
     "metadata": {
      "needs_background": "light"
     },
     "output_type": "display_data"
    }
   ],
   "source": [
    "sns.barplot(dataset[\"EKG results\"],y)"
   ]
  },
  {
   "cell_type": "markdown",
   "metadata": {
    "id": "xOfOyC4kO-Kq"
   },
   "source": [
    "### Analysing the 'Exercise angina' feature"
   ]
  },
  {
   "cell_type": "code",
   "execution_count": 25,
   "metadata": {
    "colab": {
     "base_uri": "https://localhost:8080/"
    },
    "executionInfo": {
     "elapsed": 56,
     "status": "ok",
     "timestamp": 1631779981162,
     "user": {
      "displayName": "Divya Chelshia",
      "photoUrl": "https://lh3.googleusercontent.com/a-/AOh14GiSGuzDMgmdJ0ItPB_Nu-COcMs3eOaEsKG2F5TYeQ=s64",
      "userId": "00594732214127313267"
     },
     "user_tz": -330
    },
    "id": "WsxVMuN_O-Kq",
    "outputId": "b99c7425-b538-434e-e5f2-f887eff780ae"
   },
   "outputs": [
    {
     "data": {
      "text/plain": [
       "array([0, 1])"
      ]
     },
     "execution_count": 25,
     "metadata": {},
     "output_type": "execute_result"
    }
   ],
   "source": [
    "dataset[\"Exercise angina\"].unique()"
   ]
  },
  {
   "cell_type": "code",
   "execution_count": 26,
   "metadata": {
    "colab": {
     "base_uri": "https://localhost:8080/",
     "height": 296
    },
    "executionInfo": {
     "elapsed": 47,
     "status": "ok",
     "timestamp": 1631779981164,
     "user": {
      "displayName": "Divya Chelshia",
      "photoUrl": "https://lh3.googleusercontent.com/a-/AOh14GiSGuzDMgmdJ0ItPB_Nu-COcMs3eOaEsKG2F5TYeQ=s64",
      "userId": "00594732214127313267"
     },
     "user_tz": -330
    },
    "id": "Umkxjth7O-Kq",
    "outputId": "1af56ed9-2dd2-4156-c6ea-cf9a138eaa90"
   },
   "outputs": [
    {
     "data": {
      "text/plain": [
       "<AxesSubplot:xlabel='Exercise angina', ylabel='Heart Disease'>"
      ]
     },
     "execution_count": 26,
     "metadata": {},
     "output_type": "execute_result"
    },
    {
     "data": {
      "image/png": "[encoded data removed]",
      "text/plain": [
       "<Figure size 432x288 with 1 Axes>"
      ]
     },
     "metadata": {
      "needs_background": "light"
     },
     "output_type": "display_data"
    }
   ],
   "source": [
    "sns.barplot(dataset[\"Exercise angina\"],y)"
   ]
  },
  {
   "cell_type": "markdown",
   "metadata": {
    "id": "ARTH3riVO-Kr"
   },
   "source": [
    "### Analysing the Slope feature"
   ]
  },
  {
   "cell_type": "code",
   "execution_count": 27,
   "metadata": {
    "colab": {
     "base_uri": "https://localhost:8080/"
    },
    "executionInfo": {
     "elapsed": 40,
     "status": "ok",
     "timestamp": 1631779981166,
     "user": {
      "displayName": "Divya Chelshia",
      "photoUrl": "https://lh3.googleusercontent.com/a-/AOh14GiSGuzDMgmdJ0ItPB_Nu-COcMs3eOaEsKG2F5TYeQ=s64",
      "userId": "00594732214127313267"
     },
     "user_tz": -330
    },
    "id": "LtG4tok0O-Kr",
    "outputId": "499cca0b-ec6e-43fe-e010-e9651e092ce6"
   },
   "outputs": [
    {
     "data": {
      "text/plain": [
       "array([2, 1, 3])"
      ]
     },
     "execution_count": 27,
     "metadata": {},
     "output_type": "execute_result"
    }
   ],
   "source": [
    "dataset[\"Slope of ST\"].unique()"
   ]
  },
  {
   "cell_type": "code",
   "execution_count": 28,
   "metadata": {
    "colab": {
     "base_uri": "https://localhost:8080/",
     "height": 296
    },
    "executionInfo": {
     "elapsed": 34,
     "status": "ok",
     "timestamp": 1631779981167,
     "user": {
      "displayName": "Divya Chelshia",
      "photoUrl": "https://lh3.googleusercontent.com/a-/AOh14GiSGuzDMgmdJ0ItPB_Nu-COcMs3eOaEsKG2F5TYeQ=s64",
      "userId": "00594732214127313267"
     },
     "user_tz": -330
    },
    "id": "Dmm98Ve_O-Kr",
    "outputId": "44fa4c4c-d789-451f-e40c-8e007f3429c0"
   },
   "outputs": [
    {
     "data": {
      "text/plain": [
       "<AxesSubplot:xlabel='Slope of ST', ylabel='Heart Disease'>"
      ]
     },
     "execution_count": 28,
     "metadata": {},
     "output_type": "execute_result"
    },
    {
     "data": {
      "image/png": "[encoded data removed]",
      "text/plain": [
       "<Figure size 432x288 with 1 Axes>"
      ]
     },
     "metadata": {
      "needs_background": "light"
     },
     "output_type": "display_data"
    }
   ],
   "source": [
    "sns.barplot(dataset[\"Slope of ST\"],y)"
   ]
  },
  {
   "cell_type": "markdown",
   "metadata": {
    "id": "Lo5PVjF-O-Ks"
   },
   "source": [
    "### Analysing the 'Number of vessels flur' feature"
   ]
  },
  {
   "cell_type": "code",
   "execution_count": 29,
   "metadata": {
    "id": "tkvp-ugeO-Ks"
   },
   "outputs": [],
   "source": [
    "#number of major vessels (0-3) colored by flourosopy"
   ]
  },
  {
   "cell_type": "code",
   "execution_count": 30,
   "metadata": {
    "colab": {
     "base_uri": "https://localhost:8080/"
    },
    "executionInfo": {
     "elapsed": 56,
     "status": "ok",
     "timestamp": 1631779981786,
     "user": {
      "displayName": "Divya Chelshia",
      "photoUrl": "https://lh3.googleusercontent.com/a-/AOh14GiSGuzDMgmdJ0ItPB_Nu-COcMs3eOaEsKG2F5TYeQ=s64",
      "userId": "00594732214127313267"
     },
     "user_tz": -330
    },
    "id": "DydirZiCO-Kx",
    "outputId": "ae5eeb6a-0cff-40f8-8a23-867194e9890e"
   },
   "outputs": [
    {
     "data": {
      "text/plain": [
       "array([3, 0, 1, 2])"
      ]
     },
     "execution_count": 30,
     "metadata": {},
     "output_type": "execute_result"
    }
   ],
   "source": [
    "dataset[\"Number of vessels fluro\"].unique()"
   ]
  },
  {
   "cell_type": "code",
   "execution_count": 31,
   "metadata": {
    "colab": {
     "base_uri": "https://localhost:8080/",
     "height": 296
    },
    "executionInfo": {
     "elapsed": 57,
     "status": "ok",
     "timestamp": 1631779981790,
     "user": {
      "displayName": "Divya Chelshia",
      "photoUrl": "https://lh3.googleusercontent.com/a-/AOh14GiSGuzDMgmdJ0ItPB_Nu-COcMs3eOaEsKG2F5TYeQ=s64",
      "userId": "00594732214127313267"
     },
     "user_tz": -330
    },
    "id": "RzND1SE2O-Kx",
    "outputId": "5b79a3bf-707c-4203-9d21-e1e45fa8cd13"
   },
   "outputs": [
    {
     "data": {
      "text/plain": [
       "<AxesSubplot:xlabel='Number of vessels fluro', ylabel='count'>"
      ]
     },
     "execution_count": 31,
     "metadata": {},
     "output_type": "execute_result"
    },
    {
     "data": {
      "image/png": "[encoded data removed]",
      "text/plain": [
       "<Figure size 432x288 with 1 Axes>"
      ]
     },
     "metadata": {
      "needs_background": "light"
     },
     "output_type": "display_data"
    }
   ],
   "source": [
    "sns.countplot(dataset[\"Number of vessels fluro\"])"
   ]
  },
  {
   "cell_type": "code",
   "execution_count": 32,
   "metadata": {
    "colab": {
     "base_uri": "https://localhost:8080/",
     "height": 296
    },
    "executionInfo": {
     "elapsed": 45,
     "status": "ok",
     "timestamp": 1631779981791,
     "user": {
      "displayName": "Divya Chelshia",
      "photoUrl": "https://lh3.googleusercontent.com/a-/AOh14GiSGuzDMgmdJ0ItPB_Nu-COcMs3eOaEsKG2F5TYeQ=s64",
      "userId": "00594732214127313267"
     },
     "user_tz": -330
    },
    "id": "kav5jFIYO-Ky",
    "outputId": "954a4771-8440-40b9-875b-032e5103fe2d"
   },
   "outputs": [
    {
     "data": {
      "text/plain": [
       "<AxesSubplot:xlabel='Number of vessels fluro', ylabel='Heart Disease'>"
      ]
     },
     "execution_count": 32,
     "metadata": {},
     "output_type": "execute_result"
    },
    {
     "data": {
      "image/png": "[encoded data removed]",
      "text/plain": [
       "<Figure size 432x288 with 1 Axes>"
      ]
     },
     "metadata": {
      "needs_background": "light"
     },
     "output_type": "display_data"
    }
   ],
   "source": [
    "sns.barplot(dataset[\"Number of vessels fluro\"],y)"
   ]
  },
  {
   "cell_type": "code",
   "execution_count": 33,
   "metadata": {
    "colab": {
     "base_uri": "https://localhost:8080/"
    },
    "executionInfo": {
     "elapsed": 35,
     "status": "ok",
     "timestamp": 1631779981793,
     "user": {
      "displayName": "Divya Chelshia",
      "photoUrl": "https://lh3.googleusercontent.com/a-/AOh14GiSGuzDMgmdJ0ItPB_Nu-COcMs3eOaEsKG2F5TYeQ=s64",
      "userId": "00594732214127313267"
     },
     "user_tz": -330
    },
    "id": "5N3lzikxO-Ky",
    "outputId": "1fef79c3-4078-4666-98e7-d2c696012925"
   },
   "outputs": [
    {
     "data": {
      "text/plain": [
       "array([3, 7, 6])"
      ]
     },
     "execution_count": 33,
     "metadata": {},
     "output_type": "execute_result"
    }
   ],
   "source": [
    "dataset[\"Thallium\"].unique()"
   ]
  },
  {
   "cell_type": "code",
   "execution_count": 34,
   "metadata": {
    "colab": {
     "base_uri": "https://localhost:8080/",
     "height": 296
    },
    "executionInfo": {
     "elapsed": 953,
     "status": "ok",
     "timestamp": 1631779982718,
     "user": {
      "displayName": "Divya Chelshia",
      "photoUrl": "https://lh3.googleusercontent.com/a-/AOh14GiSGuzDMgmdJ0ItPB_Nu-COcMs3eOaEsKG2F5TYeQ=s64",
      "userId": "00594732214127313267"
     },
     "user_tz": -330
    },
    "id": "5Y8Jr2LrO-Kz",
    "outputId": "f4d58f01-4f78-4660-801c-1575ee6a4bed"
   },
   "outputs": [
    {
     "data": {
      "text/plain": [
       "<AxesSubplot:xlabel='Thallium', ylabel='Heart Disease'>"
      ]
     },
     "execution_count": 34,
     "metadata": {},
     "output_type": "execute_result"
    },
    {
     "data": {
      "image/png": "[encoded data removed]",
      "text/plain": [
       "<Figure size 432x288 with 1 Axes>"
      ]
     },
     "metadata": {
      "needs_background": "light"
     },
     "output_type": "display_data"
    }
   ],
   "source": [
    "sns.barplot(dataset[\"Thallium\"],y)"
   ]
  }
 ],
 "metadata": {
  "colab": {
   "collapsed_sections": [
    "B83zuhYjO-KT",
    "e5zKHNJFO-Ka",
    "F6G3TBvjO-Kc",
    "xiPO8OyFO-Kd",
    "HbEiQzQhO-Ke",
    "j3ms19viO-Kf",
    "CZ72JHFQO-Kg",
    "d6KZvux1O-Kh",
    "B7Abi3YYO-Ki",
    "2_XemOjuO-Kj",
    "R8-MpEQVO-Kj",
    "hhj39WWHO-Kk",
    "6UMjdgJgO-Kk",
    "jnhD0HbSO-Kl",
    "9qTWQF9rO-Kl",
    "sfnnYC1aO-Km",
    "6rGHtgRQO-Km",
    "UTrWE0DTO-Km",
    "IlUFferQO-Kn",
    "ZdNLt4C_O-Kn",
    "oKqh7fN9O-Ko",
    "TJpj4oFNO-Kp",
    "B6mHt1_8O-Kp",
    "x9hgwSTEO-Kq",
    "xOfOyC4kO-Kq",
    "qYzOsuAeO-Kr",
    "ARTH3riVO-Kr",
    "OAKR1THyO-Ks",
    "Lo5PVjF-O-Ks",
    "K6CdN05fO-Ky",
    "0UMJdVdcO-Kz",
    "CjoV2EQIO-K1",
    "73vrVGoIO-K1",
    "DgVVq_sxO-K2",
    "t_K_MppWO-K3",
    "1uyY7kWuO-K4",
    "MUxx-IKUO-K5",
    "JNgU88eBO-K6",
    "JJ-3kvTjO-K7",
    "0uMpz27TO-K9"
   ],
   "name": "Heart_disease_prediction.ipynb",
   "provenance": []
  },
  "kernelspec": {
   "display_name": "Python 3 (ipykernel)",
   "language": "python",
   "name": "python3"
  },
  "language_info": {
   "codemirror_mode": {
    "name": "ipython",
    "version": 3
   },
   "file_extension": ".py",
   "mimetype": "text/x-python",
   "name": "python",
   "nbconvert_exporter": "python",
   "pygments_lexer": "ipython3",
   "version": "3.9.12"
  }
 },
 "nbformat": 4,
 "nbformat_minor": 1
}
